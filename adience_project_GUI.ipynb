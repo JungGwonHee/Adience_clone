{
 "cells": [
  {
   "cell_type": "code",
   "execution_count": 2,
   "metadata": {},
   "outputs": [
    {
     "name": "stderr",
     "output_type": "stream",
     "text": [
      "OpenCV: camera access has been denied. Either run 'tccutil reset Camera' command in same terminal to reset application authorization status, either modify 'System Preferences -> Security & Privacy -> Camera' settings for your application.\n",
      "OpenCV: camera failed to properly initialize!\n"
     ]
    },
    {
     "ename": "error",
     "evalue": "OpenCV(4.8.1) /Users/xperience/GHA-OpenCV-Python/_work/opencv-python/opencv-python/opencv/modules/imgproc/src/color.cpp:182: error: (-215:Assertion failed) !_src.empty() in function 'cvtColor'\n",
     "output_type": "error",
     "traceback": [
      "\u001b[0;31m---------------------------------------------------------------------------\u001b[0m",
      "\u001b[0;31merror\u001b[0m                                     Traceback (most recent call last)",
      "\u001b[1;32m/Users/junggwonhee/Desktop/programing/ai_prac/learning_set/인공지능/adience_project_GUI.ipynb 셀 1\u001b[0m line \u001b[0;36m2\n\u001b[1;32m     <a href='vscode-notebook-cell:/Users/junggwonhee/Desktop/programing/ai_prac/learning_set/%EC%9D%B8%EA%B3%B5%EC%A7%80%EB%8A%A5/adience_project_GUI.ipynb#W1sZmlsZQ%3D%3D?line=18'>19</a>\u001b[0m fig\u001b[39m.\u001b[39mcanvas\u001b[39m.\u001b[39mmpl_connect(\u001b[39m'\u001b[39m\u001b[39mclose_event\u001b[39m\u001b[39m'\u001b[39m, handle_close)\n\u001b[1;32m     <a href='vscode-notebook-cell:/Users/junggwonhee/Desktop/programing/ai_prac/learning_set/%EC%9D%B8%EA%B3%B5%EC%A7%80%EB%8A%A5/adience_project_GUI.ipynb#W1sZmlsZQ%3D%3D?line=19'>20</a>\u001b[0m retval, frame \u001b[39m=\u001b[39m cap\u001b[39m.\u001b[39mread()\n\u001b[0;32m---> <a href='vscode-notebook-cell:/Users/junggwonhee/Desktop/programing/ai_prac/learning_set/%EC%9D%B8%EA%B3%B5%EC%A7%80%EB%8A%A5/adience_project_GUI.ipynb#W1sZmlsZQ%3D%3D?line=20'>21</a>\u001b[0m im \u001b[39m=\u001b[39m plt\u001b[39m.\u001b[39mimshow(cv2\u001b[39m.\u001b[39;49mcvtColor(frame,cv2\u001b[39m.\u001b[39;49mCOLOR_BGR2RGB))\n\u001b[1;32m     <a href='vscode-notebook-cell:/Users/junggwonhee/Desktop/programing/ai_prac/learning_set/%EC%9D%B8%EA%B3%B5%EC%A7%80%EB%8A%A5/adience_project_GUI.ipynb#W1sZmlsZQ%3D%3D?line=22'>23</a>\u001b[0m \u001b[39mwhile\u001b[39;00m \u001b[39mTrue\u001b[39;00m:\n\u001b[1;32m     <a href='vscode-notebook-cell:/Users/junggwonhee/Desktop/programing/ai_prac/learning_set/%EC%9D%B8%EA%B3%B5%EC%A7%80%EB%8A%A5/adience_project_GUI.ipynb#W1sZmlsZQ%3D%3D?line=23'>24</a>\u001b[0m     retval, frame \u001b[39m=\u001b[39m cap\u001b[39m.\u001b[39mread()\n",
      "\u001b[0;31merror\u001b[0m: OpenCV(4.8.1) /Users/xperience/GHA-OpenCV-Python/_work/opencv-python/opencv-python/opencv/modules/imgproc/src/color.cpp:182: error: (-215:Assertion failed) !_src.empty() in function 'cvtColor'\n"
     ]
    },
    {
     "data": {
      "image/png": "[encoded data removed]",
      "text/plain": [
       "<Figure size 1000x600 with 1 Axes>"
      ]
     },
     "metadata": {},
     "output_type": "display_data"
    }
   ],
   "source": [
    "import cv2\n",
    "import matplotlib.pyplot as plt\n",
    "\n",
    "def handle_key_press(event):\n",
    "    if event.key == 'escape':\n",
    "        cap.release()\n",
    "        plt.close()\n",
    "def handle_close(evt):\n",
    "    print('Close figure!')\n",
    "    cap.release()\n",
    "\n",
    "cap = cv2.VideoCapture(0)\n",
    "\n",
    "plt.ion()\n",
    "fig = plt.figure(figsize=(10,6))\n",
    "plt.axis('off')\n",
    "fig.canvas.manager.set_window_title('Video Capture')\n",
    "fig.canvas.mpl_connect('key_press_event',handle_key_press)\n",
    "fig.canvas.mpl_connect('close_event', handle_close)\n",
    "retval, frame = cap.read()\n",
    "im = plt.imshow(cv2.cvtColor(frame,cv2.COLOR_BGR2RGB))\n",
    "\n",
    "while True:\n",
    "    retval, frame = cap.read()\n",
    "    if not retval:\n",
    "        break\n",
    "    plt.imshow(cv2.cvtColor(frame, cv2.COLOR_BGR2RGB))\n",
    "    im.set_array(cv2.cvtColor(frame,cv2.COLOR_BGR2RGB))\n",
    "    fig.canvas.draw()\n",
    "    fig.canvas.draw_idle()\n",
    "    fig.canvas.flush_events()\n",
    "\n",
    "if cap.isOpened():\n",
    "    cap.release()"
   ]
  },
  {
   "cell_type": "code",
   "execution_count": 3,
   "metadata": {},
   "outputs": [
    {
     "ename": "ModuleNotFoundError",
     "evalue": "No module named 'cvlib'",
     "output_type": "error",
     "traceback": [
      "\u001b[0;31m---------------------------------------------------------------------------\u001b[0m",
      "\u001b[0;31mModuleNotFoundError\u001b[0m                       Traceback (most recent call last)",
      "\u001b[1;32m/Users/junggwonhee/Desktop/programing/ai_prac/learning_set/인공지능/adience_project_GUI.ipynb 셀 2\u001b[0m line \u001b[0;36m2\n\u001b[1;32m      <a href='vscode-notebook-cell:/Users/junggwonhee/Desktop/programing/ai_prac/learning_set/%EC%9D%B8%EA%B3%B5%EC%A7%80%EB%8A%A5/adience_project_GUI.ipynb#W2sZmlsZQ%3D%3D?line=0'>1</a>\u001b[0m \u001b[39mimport\u001b[39;00m \u001b[39mcv2\u001b[39;00m\n\u001b[0;32m----> <a href='vscode-notebook-cell:/Users/junggwonhee/Desktop/programing/ai_prac/learning_set/%EC%9D%B8%EA%B3%B5%EC%A7%80%EB%8A%A5/adience_project_GUI.ipynb#W2sZmlsZQ%3D%3D?line=1'>2</a>\u001b[0m \u001b[39mimport\u001b[39;00m \u001b[39mcvlib\u001b[39;00m \u001b[39mas\u001b[39;00m \u001b[39mcv\u001b[39;00m\n",
      "\u001b[0;31mModuleNotFoundError\u001b[0m: No module named 'cvlib'"
     ]
    }
   ],
   "source": [
    "import cv2\n",
    "import cvlib as cv\n",
    "\n",
    "img = cv2.imread('')"
   ]
  },
  {
   "cell_type": "markdown",
   "metadata": {},
   "source": [
    "https://blog.naver.com/demian7607/221972214271"
   ]
  }
 ],
 "metadata": {
  "kernelspec": {
   "display_name": "base",
   "language": "python",
   "name": "python3"
  },
  "language_info": {
   "codemirror_mode": {
    "name": "ipython",
    "version": 3
   },
   "file_extension": ".py",
   "mimetype": "text/x-python",
   "name": "python",
   "nbconvert_exporter": "python",
   "pygments_lexer": "ipython3",
   "version": "3.9.18"
  }
 },
 "nbformat": 4,
 "nbformat_minor": 2
}
